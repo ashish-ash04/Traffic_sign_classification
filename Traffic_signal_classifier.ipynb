{
 "cells": [
  {
   "cell_type": "code",
   "execution_count": 1,
   "id": "7a342e87",
   "metadata": {},
   "outputs": [],
   "source": [
    "import numpy as np"
   ]
  },
  {
   "cell_type": "code",
   "execution_count": 3,
   "id": "ba422233",
   "metadata": {},
   "outputs": [],
   "source": [
    " import pandas as pd \n",
    "import matplotlib.pyplot as plt\n",
    "import cv2\n",
    "import tensorflow as tf\n",
    "from PIL import Image\n",
    "import os\n",
    "from sklearn.model_selection import train_test_split\n",
    "from tensorflow.keras.utils import to_categorical\n",
    "from tensorflow.keras.models import Sequential, load_model\n",
    "from tensorflow.keras.layers import Conv2D, MaxPool2D, Dense, Flatten, Dropout"
   ]
  },
  {
   "cell_type": "code",
   "execution_count": 4,
   "id": "df4586b6",
   "metadata": {},
   "outputs": [],
   "source": [
    "data = []\n",
    "labels = []\n",
    "classes = 43\n",
    "cur_path = os.getcwd()\n",
    "#Retrieving the images and their labels \n",
    "for i in range(classes):\n",
    "    path = os.path.join(cur_path,'train',str(i))\n",
    "    images = os.listdir(path)\n",
    "    for a in images:\n",
    "        try:\n",
    "            image = Image.open(path + '\\\\'+ a)\n",
    "            image = image.resize((30,30))\n",
    "            image = np.array(image)\n",
    "            #sim = Image.fromarray(image)\n",
    "            data.append(image)\n",
    "            labels.append(i)\n",
    "        except:\n",
    "            print(\"Error loading image\")"
   ]
  },
  {
   "cell_type": "code",
   "execution_count": 5,
   "id": "66285f34",
   "metadata": {},
   "outputs": [],
   "source": [
    "#Converting lists into numpy arrays\n",
    "data = np.array(data)\n",
    "labels = np.array(labels)"
   ]
  },
  {
   "cell_type": "code",
   "execution_count": 6,
   "id": "833233b3",
   "metadata": {},
   "outputs": [
    {
     "name": "stdout",
     "output_type": "stream",
     "text": [
      "(39209, 30, 30, 3) (39209,)\n"
     ]
    }
   ],
   "source": [
    "\n",
    "print(data.shape, labels.shape)"
   ]
  },
  {
   "cell_type": "code",
   "execution_count": 7,
   "id": "f087ef84",
   "metadata": {},
   "outputs": [
    {
     "name": "stdout",
     "output_type": "stream",
     "text": [
      "(31367, 30, 30, 3) (7842, 30, 30, 3) (31367,) (7842,)\n"
     ]
    }
   ],
   "source": [
    "X_train, X_test, y_train, y_test = train_test_split(data, labels, test_size=0.2, random_state=42)\n",
    "print(X_train.shape, X_test.shape, y_train.shape, y_test.shape)"
   ]
  },
  {
   "cell_type": "code",
   "execution_count": 8,
   "id": "6a620edd",
   "metadata": {},
   "outputs": [],
   "source": [
    "#Converting the labels into one hot encoding\n",
    "y_train = to_categorical(y_train, 43)\n",
    "y_test = to_categorical(y_test, 43)"
   ]
  },
  {
   "cell_type": "code",
   "execution_count": 9,
   "id": "5e7f0782",
   "metadata": {},
   "outputs": [],
   "source": [
    "#Building the model\n",
    "model = Sequential()\n",
    "model.add(Conv2D(filters=32, kernel_size=(5,5), activation='relu', input_shape=X_train.shape[1:]))\n",
    "model.add(Conv2D(filters=32, kernel_size=(5,5), activation='relu'))\n",
    "model.add(MaxPool2D(pool_size=(2, 2)))\n",
    "model.add(Dropout(rate=0.25))\n",
    "model.add(Conv2D(filters=64, kernel_size=(3, 3), activation='relu'))\n",
    "model.add(Conv2D(filters=64, kernel_size=(3, 3), activation='relu'))\n",
    "model.add(MaxPool2D(pool_size=(2, 2)))\n",
    "model.add(Dropout(rate=0.25))\n",
    "model.add(Flatten())\n",
    "model.add(Dense(256, activation='relu'))\n",
    "model.add(Dropout(rate=0.5))\n",
    "model.add(Dense(43, activation='softmax'))"
   ]
  },
  {
   "cell_type": "code",
   "execution_count": 10,
   "id": "f35ada55",
   "metadata": {},
   "outputs": [
    {
     "name": "stdout",
     "output_type": "stream",
     "text": [
      "Epoch 1/15\n",
      "981/981 [==============================] - 92s 89ms/step - loss: 2.0965 - accuracy: 0.4576 - val_loss: 0.6749 - val_accuracy: 0.8388\n",
      "Epoch 2/15\n",
      "981/981 [==============================] - 88s 89ms/step - loss: 0.8410 - accuracy: 0.7487 - val_loss: 0.3785 - val_accuracy: 0.8947\n",
      "Epoch 3/15\n",
      "981/981 [==============================] - 87s 89ms/step - loss: 0.5690 - accuracy: 0.8281 - val_loss: 0.2327 - val_accuracy: 0.9331\n",
      "Epoch 4/15\n",
      "981/981 [==============================] - 88s 90ms/step - loss: 0.4226 - accuracy: 0.8731 - val_loss: 0.1488 - val_accuracy: 0.9559\n",
      "Epoch 5/15\n",
      "981/981 [==============================] - 99s 100ms/step - loss: 0.3713 - accuracy: 0.8917 - val_loss: 0.1246 - val_accuracy: 0.9660\n",
      "Epoch 6/15\n",
      "981/981 [==============================] - 95s 97ms/step - loss: 0.3380 - accuracy: 0.9022 - val_loss: 0.0880 - val_accuracy: 0.9742\n",
      "Epoch 7/15\n",
      "981/981 [==============================] - 87s 89ms/step - loss: 0.3049 - accuracy: 0.9121 - val_loss: 0.1045 - val_accuracy: 0.9677\n",
      "Epoch 8/15\n",
      "981/981 [==============================] - 90s 91ms/step - loss: 0.2644 - accuracy: 0.9233 - val_loss: 0.0930 - val_accuracy: 0.9763\n",
      "Epoch 9/15\n",
      "981/981 [==============================] - 104s 106ms/step - loss: 0.2810 - accuracy: 0.9188 - val_loss: 0.0889 - val_accuracy: 0.9735\n",
      "Epoch 10/15\n",
      "981/981 [==============================] - 92s 94ms/step - loss: 0.2659 - accuracy: 0.9253 - val_loss: 0.0858 - val_accuracy: 0.9750\n",
      "Epoch 11/15\n",
      "981/981 [==============================] - 88s 90ms/step - loss: 0.2426 - accuracy: 0.9301 - val_loss: 0.0640 - val_accuracy: 0.9821\n",
      "Epoch 12/15\n",
      "981/981 [==============================] - 103s 105ms/step - loss: 0.2434 - accuracy: 0.9321 - val_loss: 0.0737 - val_accuracy: 0.9799\n",
      "Epoch 13/15\n",
      "981/981 [==============================] - 119s 122ms/step - loss: 0.2779 - accuracy: 0.9252 - val_loss: 0.0743 - val_accuracy: 0.9773\n",
      "Epoch 14/15\n",
      "981/981 [==============================] - 89s 91ms/step - loss: 0.2496 - accuracy: 0.9309 - val_loss: 0.0572 - val_accuracy: 0.9844\n",
      "Epoch 15/15\n",
      "981/981 [==============================] - 90s 91ms/step - loss: 0.2278 - accuracy: 0.9383 - val_loss: 0.1059 - val_accuracy: 0.9717\n"
     ]
    }
   ],
   "source": [
    "#Compilation of the model\n",
    "model.compile(loss='categorical_crossentropy', optimizer='adam', metrics=['accuracy'])\n",
    "epochs = 15\n",
    "history = model.fit(X_train, y_train, batch_size=32, epochs=epochs, validation_data=(X_test, y_test))\n",
    "model.save(\"my_model.h5\")"
   ]
  },
  {
   "cell_type": "code",
   "execution_count": 11,
   "id": "0a696057",
   "metadata": {},
   "outputs": [
    {
     "data": {
      "image/png": "[encoded data removed]",
      "text/plain": [
       "<Figure size 432x288 with 1 Axes>"
      ]
     },
     "metadata": {
      "needs_background": "light"
     },
     "output_type": "display_data"
    },
    {
     "data": {
      "image/png": "[encoded data removed]",
      "text/plain": [
       "<Figure size 432x288 with 1 Axes>"
      ]
     },
     "metadata": {
      "needs_background": "light"
     },
     "output_type": "display_data"
    }
   ],
   "source": [
    "#plotting graphs for accuracy \n",
    "plt.figure(0)\n",
    "plt.plot(history.history['accuracy'], label='training accuracy')\n",
    "plt.plot(history.history['val_accuracy'], label='val accuracy')\n",
    "plt.title('Accuracy')\n",
    "plt.xlabel('epochs')\n",
    "plt.ylabel('accuracy')\n",
    "plt.legend()\n",
    "plt.show()\n",
    "plt.figure(1)\n",
    "plt.plot(history.history['loss'], label='training loss')\n",
    "plt.plot(history.history['val_loss'], label='val loss')\n",
    "plt.title('Loss')\n",
    "plt.xlabel('epochs')\n",
    "plt.ylabel('loss')\n",
    "plt.legend()\n",
    "plt.show()"
   ]
  },
  {
   "cell_type": "code",
   "execution_count": 13,
   "id": "a4517125",
   "metadata": {},
   "outputs": [],
   "source": [
    "#testing accuracy on test dataset\n",
    "from sklearn.metrics import accuracy_score\n",
    "y_test = pd.read_csv('Test.csv')\n",
    "labels = y_test[\"ClassId\"].values\n",
    "imgs = y_test[\"Path\"].values\n",
    "data=[]\n",
    "for img in imgs:\n",
    "    image = Image.open(img)\n",
    "    image = image.resize((30,30))\n",
    "    data.append(np.array(image))\n",
    "X_test=np.array(data)\n",
    "pred = np.argmax(model.predict(X_test),axis=-1)"
   ]
  },
  {
   "cell_type": "code",
   "execution_count": 14,
   "id": "f544b16e",
   "metadata": {},
   "outputs": [
    {
     "name": "stdout",
     "output_type": "stream",
     "text": [
      "0.9297703879651623\n"
     ]
    }
   ],
   "source": [
    "#Accuracy with the test data\n",
    "from sklearn.metrics import accuracy_score\n",
    "print(accuracy_score(labels, pred))"
   ]
  },
  {
   "cell_type": "code",
   "execution_count": 15,
   "id": "0cadaacf",
   "metadata": {},
   "outputs": [],
   "source": [
    "model.save(\"traffic_classifier.h5\")"
   ]
  },
  {
   "cell_type": "code",
   "execution_count": null,
   "id": "cd511730",
   "metadata": {},
   "outputs": [],
   "source": []
  }
 ],
 "metadata": {
  "kernelspec": {
   "display_name": "Python 3",
   "language": "python",
   "name": "python3"
  },
  "language_info": {
   "codemirror_mode": {
    "name": "ipython",
    "version": 3
   },
   "file_extension": ".py",
   "mimetype": "text/x-python",
   "name": "python",
   "nbconvert_exporter": "python",
   "pygments_lexer": "ipython3",
   "version": "3.8.8"
  }
 },
 "nbformat": 4,
 "nbformat_minor": 5
}
